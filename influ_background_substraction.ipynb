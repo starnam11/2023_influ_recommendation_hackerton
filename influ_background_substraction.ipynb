{
 "cells": [
  {
   "cell_type": "code",
   "execution_count": 1,
   "metadata": {},
   "outputs": [],
   "source": [
    "from rembg import remove\n",
    "from PIL import Image\n",
    "import matplotlib.image as mpimg\n",
    "import numpy as np \n",
    "import pandas as pd\n",
    "import os \n",
    "import sklearn"
   ]
  },
  {
   "cell_type": "code",
   "execution_count": 3,
   "metadata": {},
   "outputs": [],
   "source": [
    "output_path = '/Users/nam-ilyang/Downloads/influencer_sample/cleaning_img/'\n",
    "input_sample = Image.open('/Users/nam-ilyang/Downloads/influencer_sample/@hotneul/images/2986252727778008410.jpg')\n",
    "output = remove(input_sample)\n",
    "output.save(output_path+'sample.png')"
   ]
  },
  {
   "cell_type": "code",
   "execution_count": 4,
   "metadata": {},
   "outputs": [],
   "source": [
    "file_path ='/Users/nam-ilyang/Downloads/influencer_sample'\n",
    "influ_name_list = os.listdir(file_path)"
   ]
  },
  {
   "cell_type": "code",
   "execution_count": 6,
   "metadata": {},
   "outputs": [],
   "source": [
    "influ_name_list.sort()"
   ]
  },
  {
   "cell_type": "code",
   "execution_count": 8,
   "metadata": {},
   "outputs": [],
   "source": [
    "influ_name_list.remove('.DS_Store')\n",
    "influ_name_list.remove('cleaning_img')"
   ]
  },
  {
   "cell_type": "code",
   "execution_count": 9,
   "metadata": {},
   "outputs": [
    {
     "data": {
      "text/plain": [
       "['@0nefence',\n",
       " '@166.ootd',\n",
       " '@1ungwoo',\n",
       " '@337janggoon',\n",
       " '@59seok',\n",
       " '@98.c_project',\n",
       " '@__my_t__',\n",
       " '@__v.yuum_look__',\n",
       " '@_jongh0',\n",
       " '@_mgi_closet_',\n",
       " '@_yourthen',\n",
       " '@_zia_mood',\n",
       " '@amourfor_u',\n",
       " '@antmousbe9',\n",
       " '@ap.s_fi1st',\n",
       " '@arcco_iris_',\n",
       " '@ba_serin_e',\n",
       " '@bacajini',\n",
       " '@bbo9ni',\n",
       " '@bejoon0',\n",
       " '@belleofcloset',\n",
       " '@bloggerbok',\n",
       " '@by_he.nique',\n",
       " '@c_eunnnnnnn',\n",
       " '@chaileeson',\n",
       " '@d_soms',\n",
       " '@dbs.ycaa',\n",
       " '@dismas_',\n",
       " '@dosirak_hansol',\n",
       " '@e_wolly',\n",
       " '@eungil_j',\n",
       " '@geol_dong',\n",
       " '@grey_woo9',\n",
       " '@hamnihouse',\n",
       " '@hawl_0.s',\n",
       " '@hmm.__.u',\n",
       " '@hodu__jwan',\n",
       " '@hotneul',\n",
       " '__02x02']"
      ]
     },
     "execution_count": 9,
     "metadata": {},
     "output_type": "execute_result"
    }
   ],
   "source": [
    "influ_name_list"
   ]
  },
  {
   "cell_type": "code",
   "execution_count": 17,
   "metadata": {},
   "outputs": [],
   "source": [
    "del(input_img_path)\n",
    "del(input_img_list)"
   ]
  },
  {
   "cell_type": "code",
   "execution_count": 18,
   "metadata": {},
   "outputs": [
    {
     "ename": "IsADirectoryError",
     "evalue": "[Errno 21] Is a directory: '/Users/nam-ilyang/Downloads/influencer_sample/__02x02/images/.ipynb_checkpoints'",
     "output_type": "error",
     "traceback": [
      "\u001b[0;31m---------------------------------------------------------------------------\u001b[0m",
      "\u001b[0;31mIsADirectoryError\u001b[0m                         Traceback (most recent call last)",
      "\u001b[0;32m<ipython-input-18-b3c6390e8892>\u001b[0m in \u001b[0;36m<module>\u001b[0;34m\u001b[0m\n\u001b[1;32m      5\u001b[0m     \u001b[0minput_img_list\u001b[0m\u001b[0;34m.\u001b[0m\u001b[0mremove\u001b[0m\u001b[0;34m(\u001b[0m\u001b[0;34m'.DS_Store'\u001b[0m\u001b[0;34m)\u001b[0m\u001b[0;34m\u001b[0m\u001b[0;34m\u001b[0m\u001b[0m\n\u001b[1;32m      6\u001b[0m     \u001b[0;32mfor\u001b[0m \u001b[0mj\u001b[0m \u001b[0;32min\u001b[0m \u001b[0mrange\u001b[0m\u001b[0;34m(\u001b[0m\u001b[0mlen\u001b[0m\u001b[0;34m(\u001b[0m\u001b[0minput_img_list\u001b[0m\u001b[0;34m)\u001b[0m\u001b[0;34m)\u001b[0m\u001b[0;34m:\u001b[0m\u001b[0;34m\u001b[0m\u001b[0;34m\u001b[0m\u001b[0m\n\u001b[0;32m----> 7\u001b[0;31m         \u001b[0minput_pic\u001b[0m \u001b[0;34m=\u001b[0m \u001b[0mImage\u001b[0m\u001b[0;34m.\u001b[0m\u001b[0mopen\u001b[0m\u001b[0;34m(\u001b[0m\u001b[0;34m'/Users/nam-ilyang/Downloads/influencer_sample'\u001b[0m\u001b[0;34m+\u001b[0m\u001b[0;34m'/'\u001b[0m\u001b[0;34m+\u001b[0m\u001b[0mi\u001b[0m\u001b[0;34m+\u001b[0m\u001b[0;34m'/'\u001b[0m\u001b[0;34m+\u001b[0m\u001b[0;34m'images/'\u001b[0m\u001b[0;34m+\u001b[0m\u001b[0minput_img_list\u001b[0m\u001b[0;34m[\u001b[0m\u001b[0mj\u001b[0m\u001b[0;34m]\u001b[0m\u001b[0;34m)\u001b[0m\u001b[0;34m\u001b[0m\u001b[0;34m\u001b[0m\u001b[0m\n\u001b[0m\u001b[1;32m      8\u001b[0m         \u001b[0moutput\u001b[0m \u001b[0;34m=\u001b[0m \u001b[0mremove\u001b[0m\u001b[0;34m(\u001b[0m\u001b[0minput_pic\u001b[0m\u001b[0;34m)\u001b[0m\u001b[0;34m\u001b[0m\u001b[0;34m\u001b[0m\u001b[0m\n\u001b[1;32m      9\u001b[0m         \u001b[0moutput\u001b[0m\u001b[0;34m.\u001b[0m\u001b[0msave\u001b[0m\u001b[0;34m(\u001b[0m\u001b[0moutput_path\u001b[0m\u001b[0;34m+\u001b[0m\u001b[0mi\u001b[0m\u001b[0;34m+\u001b[0m\u001b[0;34m\"_\"\u001b[0m\u001b[0;34m+\u001b[0m\u001b[0mstr\u001b[0m\u001b[0;34m(\u001b[0m\u001b[0mj\u001b[0m\u001b[0;34m)\u001b[0m\u001b[0;34m+\u001b[0m\u001b[0;34m'.png'\u001b[0m\u001b[0;34m)\u001b[0m\u001b[0;34m\u001b[0m\u001b[0;34m\u001b[0m\u001b[0m\n",
      "\u001b[0;32m~/opt/anaconda3/lib/python3.8/site-packages/PIL/Image.py\u001b[0m in \u001b[0;36mopen\u001b[0;34m(fp, mode, formats)\u001b[0m\n\u001b[1;32m   3129\u001b[0m \u001b[0;34m\u001b[0m\u001b[0m\n\u001b[1;32m   3130\u001b[0m     \u001b[0;32mif\u001b[0m \u001b[0mfilename\u001b[0m\u001b[0;34m:\u001b[0m\u001b[0;34m\u001b[0m\u001b[0;34m\u001b[0m\u001b[0m\n\u001b[0;32m-> 3131\u001b[0;31m         \u001b[0mfp\u001b[0m \u001b[0;34m=\u001b[0m \u001b[0mbuiltins\u001b[0m\u001b[0;34m.\u001b[0m\u001b[0mopen\u001b[0m\u001b[0;34m(\u001b[0m\u001b[0mfilename\u001b[0m\u001b[0;34m,\u001b[0m \u001b[0;34m\"rb\"\u001b[0m\u001b[0;34m)\u001b[0m\u001b[0;34m\u001b[0m\u001b[0;34m\u001b[0m\u001b[0m\n\u001b[0m\u001b[1;32m   3132\u001b[0m         \u001b[0mexclusive_fp\u001b[0m \u001b[0;34m=\u001b[0m \u001b[0;32mTrue\u001b[0m\u001b[0;34m\u001b[0m\u001b[0;34m\u001b[0m\u001b[0m\n\u001b[1;32m   3133\u001b[0m \u001b[0;34m\u001b[0m\u001b[0m\n",
      "\u001b[0;31mIsADirectoryError\u001b[0m: [Errno 21] Is a directory: '/Users/nam-ilyang/Downloads/influencer_sample/__02x02/images/.ipynb_checkpoints'"
     ]
    }
   ],
   "source": [
    "output_path = '/Users/nam-ilyang/Downloads/influencer_sample/cleaning_img/'\n",
    "for i in influ_name_list:\n",
    "    input_img_path = '/Users/nam-ilyang/Downloads/influencer_sample'+'/'+i+'/'+'images'\n",
    "    input_img_list = os.listdir(input_img_path)\n",
    "    input_img_list.remove('.DS_Store')\n",
    "    for j in range(len(input_img_list)):\n",
    "        input_pic = Image.open('/Users/nam-ilyang/Downloads/influencer_sample'+'/'+i+'/'+'images/'+input_img_list[j])\n",
    "        output = remove(input_pic)\n",
    "        output.save(output_path+i+\"_\"+str(j)+'.png')\n",
    "        "
   ]
  },
  {
   "cell_type": "code",
   "execution_count": 13,
   "metadata": {},
   "outputs": [
    {
     "name": "stdout",
     "output_type": "stream",
     "text": [
      "['2985025814282546441.jpg', '.DS_Store', '2995161486976657241.jpg', '2990789324597831989.jpg', '3003173699142298173.jpg', '3006778853318091854.jpg', '2986449340583416558.jpg', '2996596511182147603.jpg', '3001472928835218963.jpg', '2999584637747939141.jpg', '2998098838388977671.jpg', '3005347722609627475.jpg', '2992276973502233515.jpg', '2989467375623902520.jpg', '2987998482799647980.jpg']\n"
     ]
    }
   ],
   "source": [
    "output_path = '/Users/nam-ilyang/Downloads/influencer_sample/cleaning_img/'\n",
    "input_img_path = '/Users/nam-ilyang/Downloads/influencer_sample'+'/'+'@0nefence'+'/'+'images'\n",
    "input_img_list = os.listdir(input_img_path)\n",
    "print(input_img_list)"
   ]
  },
  {
   "cell_type": "code",
   "execution_count": 27,
   "metadata": {},
   "outputs": [],
   "source": [
    "influ_name_list.remove('.DS_Store')"
   ]
  },
  {
   "cell_type": "code",
   "execution_count": 28,
   "metadata": {},
   "outputs": [
    {
     "data": {
      "text/plain": [
       "['@k_8_8bsoo',\n",
       " '@lamode.seoul',\n",
       " '@ruri.kim',\n",
       " '@win.on_',\n",
       " '@kxyxn',\n",
       " '@tlrou.vee',\n",
       " '@jung_staas',\n",
       " '@zxcvr0626',\n",
       " '@wnsgurrha',\n",
       " '@malko_bee',\n",
       " '@lil_0uzi_vert',\n",
       " '@y_mood_h',\n",
       " '@m_n__day',\n",
       " '@yj_mark',\n",
       " '@kimchiz_man',\n",
       " '@oohsehun',\n",
       " '@yangkoon__dl',\n",
       " '@one_r_k',\n",
       " '@moodonx2',\n",
       " '@sualboys',\n",
       " '@s.s_jun',\n",
       " '@jindalorian',\n",
       " '@uuuuk_2_',\n",
       " '@siaestival',\n",
       " '@my_own_way_____',\n",
       " '@jin_pyo_is',\n",
       " '@jin.wonder',\n",
       " '@slglf',\n",
       " '@tt__yl',\n",
       " '@mini.d31',\n",
       " '@ro.seon',\n",
       " '@odor_bubu',\n",
       " '@loolinmx',\n",
       " '@hwi____ii',\n",
       " '@yummy.__.do',\n",
       " '@velyjuu',\n",
       " '@kimyannnnngh',\n",
       " '@s_uz_.zzy__2',\n",
       " '@yeenstyle_',\n",
       " '@jelly_wony',\n",
       " '@oytoyt_',\n",
       " '@mavlfit',\n",
       " '@so_h_appy',\n",
       " '@j0ng_wo0',\n",
       " '@lxx.s.y_',\n",
       " '@rupinydaily',\n",
       " '@xixxeeonx_4',\n",
       " '@z___meme',\n",
       " '@kj_m.w',\n",
       " '@rozley._.y',\n",
       " '@so_j2',\n",
       " '@yulkeem___',\n",
       " '@oneh6_']"
      ]
     },
     "execution_count": 28,
     "metadata": {},
     "output_type": "execute_result"
    }
   ],
   "source": [
    "influ_name_list"
   ]
  },
  {
   "cell_type": "code",
   "execution_count": 39,
   "metadata": {},
   "outputs": [],
   "source": [
    "output_path = '/Users/nam-ilyang/Downloads/influencer_sample/cleaning_img/'\n",
    "\n",
    "for i in influ_name_list:\n",
    "    input_img_path = '/Users/nam-ilyang/Downloads/influencer_2'+'/'+i+'/'+'무제 폴더'\n",
    "    input_img_list = os.listdir(input_img_path)\n",
    "    if '.DS_Store' in input_img_list:\n",
    "        input_img_list.remove('.DS_Store')\n",
    "\n",
    "    for j in range(len(input_img_list)):\n",
    "        input_pic = Image.open(input_img_path+'/'+input_img_list[j])\n",
    "        output = remove(input_pic)\n",
    "        output.save(output_path+i+\"_\"+str(j)+'.png')"
   ]
  },
  {
   "cell_type": "code",
   "execution_count": 31,
   "metadata": {},
   "outputs": [
    {
     "data": {
      "text/plain": [
       "['@k_8_8bsoo',\n",
       " '@lamode.seoul',\n",
       " '@ruri.kim',\n",
       " '@win.on_',\n",
       " '@kxyxn',\n",
       " '@tlrou.vee',\n",
       " '@jung_staas',\n",
       " '@zxcvr0626',\n",
       " '@wnsgurrha',\n",
       " '@malko_bee',\n",
       " '@lil_0uzi_vert',\n",
       " '@y_mood_h',\n",
       " '@m_n__day',\n",
       " '@yj_mark',\n",
       " '@kimchiz_man',\n",
       " '@oohsehun',\n",
       " '@yangkoon__dl',\n",
       " '@one_r_k',\n",
       " '@moodonx2',\n",
       " '@sualboys',\n",
       " '@s.s_jun',\n",
       " '@jindalorian',\n",
       " '@uuuuk_2_',\n",
       " '@siaestival',\n",
       " '@my_own_way_____',\n",
       " '@jin_pyo_is',\n",
       " '@jin.wonder',\n",
       " '@slglf',\n",
       " '@tt__yl',\n",
       " '@mini.d31',\n",
       " '@ro.seon',\n",
       " '@odor_bubu',\n",
       " '@loolinmx',\n",
       " '@hwi____ii',\n",
       " '@yummy.__.do',\n",
       " '@velyjuu',\n",
       " '@kimyannnnngh',\n",
       " '@s_uz_.zzy__2',\n",
       " '@yeenstyle_',\n",
       " '@jelly_wony',\n",
       " '@oytoyt_',\n",
       " '@mavlfit',\n",
       " '@so_h_appy',\n",
       " '@j0ng_wo0',\n",
       " '@lxx.s.y_',\n",
       " '@rupinydaily',\n",
       " '@xixxeeonx_4',\n",
       " '@z___meme',\n",
       " '@kj_m.w',\n",
       " '@rozley._.y',\n",
       " '@so_j2',\n",
       " '@yulkeem___',\n",
       " '@oneh6_']"
      ]
     },
     "execution_count": 31,
     "metadata": {},
     "output_type": "execute_result"
    }
   ],
   "source": [
    "influ_name_list"
   ]
  },
  {
   "cell_type": "code",
   "execution_count": 34,
   "metadata": {},
   "outputs": [
    {
     "data": {
      "text/plain": [
       "['2943022626402759366.jpg',\n",
       " '2984828254444903440.jpg',\n",
       " '2988654043657433905.jpg',\n",
       " '3000980204718489446.jpg',\n",
       " '2932114181257534628.jpg',\n",
       " '.DS_Store',\n",
       " '2925617102330942912.jpg',\n",
       " '3007458906134705217.jpg',\n",
       " '2946674375010486060.jpg',\n",
       " '3006010861366948122.jpg',\n",
       " '2975590374895889125.jpg',\n",
       " '2950223092804035016.jpg',\n",
       " '2957450629485592465.jpg',\n",
       " '2939324761634550892.jpg',\n",
       " '2979004376099453592.jpg',\n",
       " '2981370457594116750.jpg',\n",
       " '2986463998519533341.jpg',\n",
       " '2991478599237586217.jpg',\n",
       " '2945183871026490870.jpg']"
      ]
     },
     "execution_count": 34,
     "metadata": {},
     "output_type": "execute_result"
    }
   ],
   "source": [
    "input_img_list"
   ]
  },
  {
   "cell_type": "code",
   "execution_count": 35,
   "metadata": {},
   "outputs": [
    {
     "data": {
      "text/plain": [
       "True"
      ]
     },
     "execution_count": 35,
     "metadata": {},
     "output_type": "execute_result"
    }
   ],
   "source": [
    "'.DS_Store' in input_img_list"
   ]
  },
  {
   "cell_type": "code",
   "execution_count": 37,
   "metadata": {},
   "outputs": [],
   "source": [
    "influ_name_list = influ_name_list[-20:]"
   ]
  },
  {
   "cell_type": "code",
   "execution_count": 38,
   "metadata": {},
   "outputs": [
    {
     "data": {
      "text/plain": [
       "['@hwi____ii',\n",
       " '@yummy.__.do',\n",
       " '@velyjuu',\n",
       " '@kimyannnnngh',\n",
       " '@s_uz_.zzy__2',\n",
       " '@yeenstyle_',\n",
       " '@jelly_wony',\n",
       " '@oytoyt_',\n",
       " '@mavlfit',\n",
       " '@so_h_appy',\n",
       " '@j0ng_wo0',\n",
       " '@lxx.s.y_',\n",
       " '@rupinydaily',\n",
       " '@xixxeeonx_4',\n",
       " '@z___meme',\n",
       " '@kj_m.w',\n",
       " '@rozley._.y',\n",
       " '@so_j2',\n",
       " '@yulkeem___',\n",
       " '@oneh6_']"
      ]
     },
     "execution_count": 38,
     "metadata": {},
     "output_type": "execute_result"
    }
   ],
   "source": [
    "influ_name_list"
   ]
  },
  {
   "cell_type": "code",
   "execution_count": 4,
   "metadata": {},
   "outputs": [],
   "source": [
    "import os\n",
    "import glob\n",
    "from PIL import Image\n",
    "\n",
    "\n",
    "files = glob.glob('/Users/nam-ilyang/Downloads/influ_girl/*.png')\n",
    "\n",
    "for f in files:\n",
    "    img = Image.open(f)\n",
    "    img_resize = img.resize((224, 224))\n",
    "    title, ext = os.path.splitext(f)\n",
    "    img_resize.save( '/Users/nam-ilyang/Downloads/influ_girl_half/' + title[39:] + '_half' + '.png')"
   ]
  },
  {
   "cell_type": "code",
   "execution_count": 11,
   "metadata": {},
   "outputs": [],
   "source": [
    "import os\n",
    "import glob\n",
    "from PIL import Image\n",
    "\n",
    "\n",
    "files = glob.glob('/Users/nam-ilyang/Downloads/influ_man/*.png')\n",
    "\n",
    "for f in files:\n",
    "    img = Image.open(f)\n",
    "    img_resize = img.resize((224, 224))\n",
    "    title, ext = os.path.splitext(f)\n",
    "    img_resize.save( '/Users/nam-ilyang/Downloads/influ_man_half/' + title[38:] + '_half' + '.png')"
   ]
  },
  {
   "cell_type": "code",
   "execution_count": 10,
   "metadata": {},
   "outputs": [
    {
     "data": {
      "text/plain": [
       "38"
      ]
     },
     "execution_count": 10,
     "metadata": {},
     "output_type": "execute_result"
    }
   ],
   "source": [
    "len('/Users/nam-ilyang/Downloads/influ_man/')"
   ]
  },
  {
   "cell_type": "code",
   "execution_count": null,
   "metadata": {},
   "outputs": [],
   "source": []
  }
 ],
 "metadata": {
  "kernelspec": {
   "display_name": "Python 3",
   "language": "python",
   "name": "python3"
  },
  "language_info": {
   "codemirror_mode": {
    "name": "ipython",
    "version": 3
   },
   "file_extension": ".py",
   "mimetype": "text/x-python",
   "name": "python",
   "nbconvert_exporter": "python",
   "pygments_lexer": "ipython3",
   "version": "3.8.5"
  }
 },
 "nbformat": 4,
 "nbformat_minor": 4
}
